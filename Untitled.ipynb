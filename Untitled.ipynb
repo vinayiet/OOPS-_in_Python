{
 "cells": [
  {
   "cell_type": "code",
   "execution_count": null,
   "id": "b03a0d0e-8f61-453d-9765-82c84c3a4d14",
   "metadata": {},
   "outputs": [],
   "source": [
    "#1. What is the importance of function?\n",
    "# Functions are the block of code which improves the reuseability of certain task or the certain computation.\n"
   ]
  },
  {
   "cell_type": "code",
   "execution_count": 1,
   "id": "3132ad23-b6ff-49bb-a76d-25d7aada2e12",
   "metadata": {},
   "outputs": [
    {
     "name": "stdin",
     "output_type": "stream",
     "text": [
      "Enter your name here :  Vinay\n"
     ]
    },
    {
     "name": "stdout",
     "output_type": "stream",
     "text": [
      "hello ! Vinay\n"
     ]
    }
   ],
   "source": [
    "# Write a basic function to greet students\n",
    "def greet(name):\n",
    "    print(\"hello !\", name)\n",
    "\n",
    "name = input(\"Enter your name here : \")\n",
    "greet(name)"
   ]
  },
  {
   "cell_type": "code",
   "execution_count": null,
   "id": "c08500c8-c9fa-4054-a544-83692c61e71f",
   "metadata": {},
   "outputs": [],
   "source": [
    "# What is the difference between the print and the return statement?\n",
    "# The difference between the print statement and the return statement is , Print statement is used for printing the value (showing the value).\n",
    "# where the return statement is used to returning something this can either be integer or something else."
   ]
  },
  {
   "cell_type": "code",
   "execution_count": null,
   "id": "861cf723-1908-4493-bea7-03661aa33f66",
   "metadata": {},
   "outputs": [],
   "source": [
    "# What are *args and **kwargs ?\n",
    "# The *args parameter allows a function to accept any number of positional arguments.\n",
    "# When you use *args in a function definition, it collects all the positional arguments that are passed to the function into a tuple.\n",
    "# **kwargs:\n",
    "# The **kwargs parameter allows a function to accept any number of keyword arguments (arguments passed as key-value pairs).\n",
    "# When you use **kwargs in a function definition, it collects all the keyword arguments into a dictionary where the keys are the argument names and the values are the corresponding values passed to the function."
   ]
  },
  {
   "cell_type": "code",
   "execution_count": null,
   "id": "31ef5454-f657-4a39-8a42-ad47193a852f",
   "metadata": {},
   "outputs": [],
   "source": [
    "# Explain the use of the iterator function.\n",
    "# The iterator function in Python is not a built-in function but refers to the concept of an iterator and how it's used in Python programming. An iterator is an object that allows you to traverse through a sequence of elements, one at a time, without needing to know the internal details of the sequence's representation. Iterators are commonly used with loops to iterate over elements in data structures like lists, tuples, dictionaries, and more."
   ]
  },
  {
   "cell_type": "code",
   "execution_count": 5,
   "id": "a2cfc61e-7413-4ec3-b91c-be2dadcdfc42",
   "metadata": {},
   "outputs": [
    {
     "name": "stdin",
     "output_type": "stream",
     "text": [
      "Input the number:  5\n"
     ]
    },
    {
     "name": "stdout",
     "output_type": "stream",
     "text": [
      "1 4 9 16 25 "
     ]
    }
   ],
   "source": [
    "# Write a code to generate the square of the numbers 1 to n\n",
    "def generate_squares(n):\n",
    "    for i in range(1, n + 1):\n",
    "        yield i ** 2\n",
    "\n",
    "n = int(input(\"Input the number: \"))\n",
    "squares_generator = generate_squares(n)\n",
    "\n",
    "for square in squares_generator:\n",
    "    print(square, end=' ') \n"
   ]
  },
  {
   "cell_type": "code",
   "execution_count": 23,
   "id": "8d99763c-8338-49a8-a91d-d13fb833703b",
   "metadata": {},
   "outputs": [
    {
     "name": "stdout",
     "output_type": "stream",
     "text": [
      "0 1 2 3 4 5 6 7 8 9 11 22 33 44 55 66 77 88 99 101 "
     ]
    }
   ],
   "source": [
    "# Wrtie a code that generates palindromic number using genrator function up to n.\n",
    "def is_palindrome(n):\n",
    "    return str(n) == str(n)[::-1]\n",
    "def generate_palindrom(n):\n",
    "    num = 0\n",
    "    while True:\n",
    "        if is_palindrome(num):\n",
    "            yield num\n",
    "        num += 1\n",
    "    \n",
    "palindrome_generator = generate_palindrom(0)\n",
    "\n",
    "count = 0\n",
    "for i in palindrome_generator:\n",
    "    print(i, end=' ')\n",
    "    count  += 1\n",
    "    if count == 20:\n",
    "        break\n",
    "\n",
    "    \n"
   ]
  },
  {
   "cell_type": "code",
   "execution_count": 26,
   "id": "f23615e3-4820-46ce-a697-3dbeae776daf",
   "metadata": {},
   "outputs": [
    {
     "name": "stdout",
     "output_type": "stream",
     "text": [
      "2 4 6 8 10 12 14 16 18 20 22 24 26 28 30 32 34 36 "
     ]
    }
   ],
   "source": [
    "# write a code that generates the even numbers from 2 to n.\n",
    "def generate_even(n):\n",
    "    num = 2\n",
    "    while True:\n",
    "        if num % 2 == 0:\n",
    "            yield num\n",
    "        num += 1\n",
    "generated_even = generate_even(10)\n",
    "\n",
    "count = 2\n",
    "for i in generated_even:\n",
    "    print(i, end =' ')\n",
    "    count += 1\n",
    "    if count == 20:\n",
    "        break"
   ]
  },
  {
   "cell_type": "code",
   "execution_count": 29,
   "id": "7facd592-20f5-4614-bbe5-25b1b82ac59e",
   "metadata": {},
   "outputs": [
    {
     "name": "stdin",
     "output_type": "stream",
     "text": [
      "Enter the number:  40\n"
     ]
    },
    {
     "name": "stdout",
     "output_type": "stream",
     "text": [
      "1 2 4 8 16 32 "
     ]
    }
   ],
   "source": [
    "# Write a code to generate power of two upto n.\n",
    "def generate_pow(n):\n",
    "    power = 1\n",
    "    while power <= n:\n",
    "        yield power\n",
    "        power *= 2\n",
    "        \n",
    "n = int(input(\"Enter the number: \"))\n",
    "generate = generate_pow(n)\n",
    "\n",
    "for i in generate:\n",
    "    print(i, end =' ')"
   ]
  },
  {
   "cell_type": "code",
   "execution_count": 37,
   "id": "51e12099-0d2d-4446-b650-f62c254224f1",
   "metadata": {},
   "outputs": [
    {
     "name": "stdout",
     "output_type": "stream",
     "text": [
      "3 5 7 9 11 13 15 17 19 "
     ]
    }
   ],
   "source": [
    "# Write a code that generates the prime numbesr upto n\n",
    "def check_prime(n):\n",
    "    for i in range(2, n):\n",
    "        if n % i == 0: \n",
    "            return False\n",
    "        else:\n",
    "            return True\n",
    "def generate_prime(n):\n",
    "    for i in range(2, n + 1):\n",
    "        if check_prime(i):\n",
    "            yield i\n",
    "            \n",
    "prime = generate_prime(20)\n",
    "for i in prime:\n",
    "    print(i, end = ' ')\n",
    "            \n",
    "            \n",
    "            \n"
   ]
  },
  {
   "cell_type": "code",
   "execution_count": 39,
   "id": "f5522024-4c04-4d31-9c3f-e45064735308",
   "metadata": {},
   "outputs": [
    {
     "name": "stdin",
     "output_type": "stream",
     "text": [
      "Input num1:  2\n",
      "Input num2:  33\n"
     ]
    },
    {
     "name": "stdout",
     "output_type": "stream",
     "text": [
      "35\n"
     ]
    }
   ],
   "source": [
    "# Write a code that uses the lamda function to calculate the sum of the two numbers \n",
    "sum = lambda x, y: x + y\n",
    "\n",
    "num1 = int(input(\"Input num1: \"))\n",
    "num2 = int(input(\"Input num2: \"))\n",
    "sum_numbers = sum(num1, num2)\n",
    "print(sum_numbers)"
   ]
  },
  {
   "cell_type": "code",
   "execution_count": 41,
   "id": "eaa041f1-071f-4015-973a-67aa634701bf",
   "metadata": {},
   "outputs": [
    {
     "name": "stdin",
     "output_type": "stream",
     "text": [
      "Enter the number:  4\n"
     ]
    },
    {
     "name": "stdout",
     "output_type": "stream",
     "text": [
      "16\n"
     ]
    }
   ],
   "source": [
    "# Write a code to calculate the square of a given number\n",
    "sqr = lambda x : x * x\n",
    "n = int(input(\"Enter the number: \"))\n",
    "square = sqr(n)\n",
    "print(square)"
   ]
  },
  {
   "cell_type": "code",
   "execution_count": 45,
   "id": "a6adfe3d-2d21-4cde-83f6-e34997fe4684",
   "metadata": {},
   "outputs": [
    {
     "name": "stdin",
     "output_type": "stream",
     "text": [
      "Enter number:  4\n"
     ]
    },
    {
     "name": "stdout",
     "output_type": "stream",
     "text": [
      "The number is even.\n"
     ]
    }
   ],
   "source": [
    "# Write a code using lambda function that checks whether the given number is even or odd\n",
    "check = lambda x : x % 2 == 0 \n",
    "\n",
    "\n",
    "num = int(input(\"Enter number: \"))\n",
    "if check(num):\n",
    "    print(\"The number is even.\")\n",
    "else: \n",
    "    print(\"The number is odd. \")"
   ]
  },
  {
   "cell_type": "code",
   "execution_count": 47,
   "id": "b1a91167-724d-4c8e-95fb-a19843ba9d59",
   "metadata": {},
   "outputs": [
    {
     "name": "stdin",
     "output_type": "stream",
     "text": [
      "Enter string 1:  Vinay \n",
      "Enter string 2:  Sharma\n"
     ]
    },
    {
     "name": "stdout",
     "output_type": "stream",
     "text": [
      "Vinay  Sharma\n"
     ]
    }
   ],
   "source": [
    "# Write a lambda function for concatenating two strings\n",
    "concate_str = lambda x, y: x +\" \" + y\n",
    "\n",
    "\n",
    "str1 = input(\"Enter string 1: \")\n",
    "str2 = input(\"Enter string 2: \")\n",
    "str3 = concate_str(str1, str2)\n",
    "print(str3)"
   ]
  },
  {
   "cell_type": "code",
   "execution_count": 1,
   "id": "0abdbfbe-034c-47af-9b6a-bbe705f4f395",
   "metadata": {},
   "outputs": [
    {
     "name": "stdout",
     "output_type": "stream",
     "text": [
      "20\n"
     ]
    }
   ],
   "source": [
    "# Write a code that uses lambda function to find the maximum of the three numbers\n",
    "find_max = lambda x, y, z: max(x,y,z)\n",
    "\n",
    "result = find_max(10,5,20)\n",
    "print(result)"
   ]
  },
  {
   "cell_type": "code",
   "execution_count": 9,
   "id": "fac744c1-e42c-4488-838a-6bb5aa85c714",
   "metadata": {},
   "outputs": [
    {
     "name": "stdout",
     "output_type": "stream",
     "text": [
      "[36, 16]\n"
     ]
    }
   ],
   "source": [
    "# Write a code that generates the square of the even number from the given list.\n",
    "def generate_sq(l):\n",
    "    for num in l:\n",
    "        if num % 2 == 0:\n",
    "            yield num * num\n",
    "        \n",
    "generated_sq = list(generate_sq([1,3,6,4,5]))\n",
    "print(generated_sq)\n",
    "        "
   ]
  },
  {
   "cell_type": "code",
   "execution_count": 18,
   "id": "30ca9637-d6e9-4882-858e-8995535c2899",
   "metadata": {},
   "outputs": [
    {
     "name": "stdout",
     "output_type": "stream",
     "text": [
      "4\n",
      "4\n"
     ]
    }
   ],
   "source": [
    "# Write a code that calculate the product of positive numbers of the list \n",
    "def calculate_product(l):\n",
    "    product = 1 \n",
    "    for num in l:\n",
    "        if num > 0:\n",
    "            product *= num \n",
    "    return product  \n",
    "\n",
    "\n",
    "ans = calculate_product([1, -2, 4, -5])\n",
    "print(ans)  \n"
   ]
  },
  {
   "cell_type": "code",
   "execution_count": 25,
   "id": "9e7e8108-e10f-4c71-8a44-0fbc67a1a3c4",
   "metadata": {},
   "outputs": [
    {
     "name": "stdout",
     "output_type": "stream",
     "text": [
      "36\n"
     ]
    }
   ],
   "source": [
    "# Write a code that generates the sum of the cubes of the given list.\n",
    "def cube(l):\n",
    "    sum = 0\n",
    "    for num in l:\n",
    "        sum += num ** 3\n",
    "    return sum\n",
    "\n",
    "ans = (cube([1,2,3]))\n",
    "print(ans) "
   ]
  },
  {
   "cell_type": "code",
   "execution_count": 27,
   "id": "8a55453f-eae3-4c94-82a3-29159864a489",
   "metadata": {},
   "outputs": [
    {
     "name": "stdout",
     "output_type": "stream",
     "text": [
      "[3, 4, 5, 6, 7, 8, 9]\n"
     ]
    }
   ],
   "source": [
    "# Write a code that filter out all prime numbers from the given list \n",
    "def prime(n):\n",
    "    for i in range(2,n):\n",
    "        if i % 2 == 0:\n",
    "            return True\n",
    "        else:\n",
    "            return False\n",
    " \n",
    "l = [1,2,3,4,5,6,7,8,9]\n",
    "ans = list(filter(prime, l))\n",
    "           \n",
    "print(ans)      \n",
    "    \n",
    "        "
   ]
  },
  {
   "cell_type": "code",
   "execution_count": null,
   "id": "a601e2f7-8463-43b5-adee-982c6cefa8aa",
   "metadata": {},
   "outputs": [],
   "source": [
    "# What is encapsulation in oops?\n",
    "# Encapsulation is the term used in oops through which the data hiding is done."
   ]
  },
  {
   "cell_type": "code",
   "execution_count": null,
   "id": "3da122f1-37fc-4911-83fa-923635d03524",
   "metadata": {},
   "outputs": [],
   "source": [
    "# Explain the uses of access modifier in python.\n",
    "# Keyword in python used in oops that sets the accessibility of the classes met."
   ]
  },
  {
   "cell_type": "code",
   "execution_count": null,
   "id": "0a9e5015-b665-4090-b0ff-7933faf25dde",
   "metadata": {},
   "outputs": [],
   "source": [
    "# What is inheritence in oops?\n",
    "# Inheritence is term used in the oops in which the property of the parents inherited to child.\n",
    "# Inheeritence is of five types 1. Single Inheritence 2. Multiple Inheritence 3. Multilevel Inheritece\n",
    "# 4. Heirarichal Inheritence 5. Hybrid inheritence."
   ]
  },
  {
   "cell_type": "code",
   "execution_count": null,
   "id": "a40ec554-5fac-48e0-8c75-7397759400e9",
   "metadata": {},
   "outputs": [],
   "source": [
    "# Define PolyMorphism.\n",
    "# Polymorphism in oops is term used in oops in which we make a function and that function is used for the same name but different parameters."
   ]
  },
  {
   "cell_type": "code",
   "execution_count": null,
   "id": "94ffd424-0bcf-4a16-8603-b204b683ce67",
   "metadata": {},
   "outputs": [],
   "source": [
    "# Method Overrinding. \n",
    "# Method Overriding the is term used in the oops in which the a subclass or child allowed to provide a specific implementation of a method that is already provided into the parent class."
   ]
  },
  {
   "cell_type": "code",
   "execution_count": 3,
   "id": "6433e98b-6518-4fc5-a818-375045197b92",
   "metadata": {},
   "outputs": [
    {
     "name": "stdout",
     "output_type": "stream",
     "text": [
      "Generic animal sound.\n"
     ]
    }
   ],
   "source": [
    "# Define a parent class ANimal with a method make_sound that prints \"Generic animal sound\". Create child class dog inehriting from aniimal with a method make_sound that prints \"Woof\".\n",
    "class Animal:\n",
    "    def make_sound(self):\n",
    "        print(\"Generic animal sound.\")\n",
    "    \n",
    "class Dog(Animal):\n",
    "    def make_sound_dog(self):\n",
    "        print(\"Woof!\")\n",
    "        \n",
    "obj1 = Animal()\n",
    "obj2 = Dog()\n",
    "obj2.make_sound()\n",
    "\n",
    "    "
   ]
  },
  {
   "cell_type": "code",
   "execution_count": 6,
   "id": "5cd14de4-6cc5-4740-b41a-6bda191dc3b9",
   "metadata": {},
   "outputs": [
    {
     "name": "stdout",
     "output_type": "stream",
     "text": [
      "Animal moves\n",
      "Dog runs\n"
     ]
    }
   ],
   "source": [
    "# Define a method move in the animal class that prints \"Animal moves\". Override the move method in the dog class to print \"Dog moves\".\n",
    "class Animal:\n",
    "    def moves(self):\n",
    "        print(\"Animal moves\")\n",
    "class Dog(Animal):\n",
    "    def moves(self):\n",
    "        super().moves()\n",
    "        print(\"Dog runs\")\n",
    "        \n",
    "obj = Animal()\n",
    "obj1 = Dog()\n",
    "obj1.moves()"
   ]
  },
  {
   "cell_type": "code",
   "execution_count": 8,
   "id": "8da8ff89-ea5a-4a72-bf43-3a3eb8d1268f",
   "metadata": {},
   "outputs": [
    {
     "name": "stdout",
     "output_type": "stream",
     "text": [
      "Giving birth to living young\n",
      "Woof! WOof!\n"
     ]
    }
   ],
   "source": [
    "# Create a mammal class with a method reproduce that prints \"Giving bith to live young\". Create a class dog mammal inheriting both dog and mammal.\n",
    "class Mammal:\n",
    "    def reproduce(self):\n",
    "        print(\"Giving birth to living young\")\n",
    "        \n",
    "class Dog(Mammal):\n",
    "    def bark(self):\n",
    "        print(\"Woof! WOof!\")\n",
    "        \n",
    "my_dog = Dog()\n",
    "my_dog.reproduce()\n",
    "my_dog.bark()"
   ]
  },
  {
   "cell_type": "code",
   "execution_count": 8,
   "id": "e7b7e37c-3798-4724-b07b-cb43e9a1469b",
   "metadata": {},
   "outputs": [
    {
     "name": "stdout",
     "output_type": "stream",
     "text": [
      "A Dog species has been created\n",
      "rocky of breed labrador\n"
     ]
    }
   ],
   "source": [
    "# Define constructor in both Animal and Dog classes with different initialization parameters.\n",
    "class Animal:\n",
    "    def __init__(self, species):\n",
    "        self.species = species\n",
    "        print(f\"A {self.species} species has been created\")\n",
    "        \n",
    "class Dog(Animal):\n",
    "    def __init__(self, breed, name):\n",
    "        self.breed = breed \n",
    "        self.name = name\n",
    "        print(f\"{self.name} of breed {self.breed}\")\n",
    "species = \"Dog\"      \n",
    "animal = Animal(species)\n",
    "dog = Dog(\"labrador\", \"rocky\")\n",
    "\n",
    "    "
   ]
  },
  {
   "cell_type": "code",
   "execution_count": 10,
   "id": "dcb80fd8-6a37-4da4-877d-b44ee3ad0cae",
   "metadata": {},
   "outputs": [
    {
     "name": "stdout",
     "output_type": "stream",
     "text": [
      "Circle Area: 78.5\n"
     ]
    }
   ],
   "source": [
    "# Define abstraction in python? How it is implemented??\n",
    "# NOt understood \n",
    "from abc import ABC, abstractmethod\n",
    "\n",
    "# Abstract class\n",
    "class Shape(ABC):\n",
    "    @abstractmethod\n",
    "    def area(self):\n",
    "        pass\n",
    "\n",
    "# Concrete subclass\n",
    "class Circle(Shape):\n",
    "    def __init__(self, radius):\n",
    "        self.radius = radius\n",
    "    \n",
    "    def area(self):\n",
    "        return 3.14 * self.radius * self.radius\n",
    "\n",
    "# Creating objects\n",
    "circle = Circle(5)\n",
    "print(\"Circle Area:\", circle.area())  # Output: Circle Area: 78.5\n"
   ]
  },
  {
   "cell_type": "code",
   "execution_count": 1,
   "id": "48a29c21-ee50-4b7f-b04b-69f332b871ee",
   "metadata": {},
   "outputs": [],
   "source": [
    "# how are abstract method different from regular method?\n",
    "# Abstract Method: An abstract method is a method declared in an abstract class or interface without providing an implementation. It only contains the method signature (name, parameters, return type) but lacks a body.\n",
    "# Regular Method: A regular method, also known as a concrete method, is a method that has a complete implementation with a body containing executable code."
   ]
  },
  {
   "cell_type": "code",
   "execution_count": 1,
   "id": "87b6e022-336c-431d-a128-79c9193a3b8a",
   "metadata": {},
   "outputs": [],
   "source": [
    "# How can yyou achieve abstraction using interfaces ?\n",
    "# In Python, interfaces are achieved using the abc module, which provides a way to define abstract base classes (ABCs). ABCs define a blueprint for classes that inherit from them, specifying which methods must be implemented by the subclasses. This enforces a common behavior for all classes that implement the interface, promoting loose coupling and code reusability.\n",
    "\n"
   ]
  },
  {
   "cell_type": "code",
   "execution_count": 11,
   "id": "f1585d2e-71bd-4315-a4a1-c8cc6456afd9",
   "metadata": {},
   "outputs": [
    {
     "name": "stdout",
     "output_type": "stream",
     "text": [
      "Area of rect: 20\n"
     ]
    },
    {
     "data": {
      "text/plain": [
       "78.5"
      ]
     },
     "execution_count": 11,
     "metadata": {},
     "output_type": "execute_result"
    }
   ],
   "source": [
    "#Can you provide an example of how can be used to utilised to create a common interface for a group of related class in python.\n",
    "from abc import ABC, abstractmethod\n",
    "\n",
    "class Shape(ABC):\n",
    "    @abstractmethod\n",
    "    def area(self):\n",
    "        pass\n",
    "    \n",
    "    @abstractmethod\n",
    "    def perimeter(ABC):\n",
    "        pass\n",
    "    \n",
    "class Rectangle(Shape):\n",
    "    def __init__(self, length, breadth):\n",
    "        self.length = length\n",
    "        self.breadth = breadth\n",
    "        \n",
    "        \n",
    "    def perimeter(self):\n",
    "        return 2 * (self.length + self.breadth)\n",
    "    \n",
    "    def area(self):\n",
    "        return self.length * self.breadth\n",
    "    \n",
    "class Circle(Shape):\n",
    "    def __init__(self, radius):\n",
    "        self.radius = radius\n",
    "        \n",
    "    def perimeter(self):\n",
    "        return 2 * 3.14 * radius\n",
    "    \n",
    "    def area(self):\n",
    "        return 3.14 * self.radius ** 2\n",
    "    \n",
    "    \n",
    "obj1 = Rectangle(4 , 5)\n",
    "print(f\"Area of rect:\",obj1.area())\n",
    "\n",
    "    \n",
    "obj2 = Circle(5)\n",
    "obj2.area()"
   ]
  },
  {
   "cell_type": "code",
   "execution_count": 12,
   "id": "f2737d64-8a8c-4979-bc0c-d1b5811c81e4",
   "metadata": {},
   "outputs": [
    {
     "name": "stdout",
     "output_type": "stream",
     "text": [
      "Woof!\n",
      "Meow!\n"
     ]
    }
   ],
   "source": [
    "# how do python achieve polymorphism through method overrinding?\n",
    "class Animal:\n",
    "    def make_sound(self):\n",
    "        pass\n",
    "\n",
    "class Dog(Animal):\n",
    "    def make_sound(self):\n",
    "        print(\"Woof!\")\n",
    "\n",
    "class Cat(Animal):\n",
    "    def make_sound(self):\n",
    "        print(\"Meow!\")\n",
    "\n",
    "# Polymorphic behavior\n",
    "def animal_sound(animal):\n",
    "    animal.make_sound()\n",
    "\n",
    "# Creating instances of Dog and Cat\n",
    "dog = Dog()\n",
    "cat = Cat()\n",
    "\n",
    "# Calling the animal_sound function with different types of animals\n",
    "animal_sound(dog)  # Output: Woof!\n",
    "animal_sound(cat)  # Output: Meow!\n"
   ]
  },
  {
   "cell_type": "code",
   "execution_count": 16,
   "id": "37635df7-b010-4384-8226-0e8058ff4f11",
   "metadata": {},
   "outputs": [
    {
     "name": "stdout",
     "output_type": "stream",
     "text": [
      "The car is accerating\n",
      "The sedan car is accelerating\n"
     ]
    }
   ],
   "source": [
    "# Define a base class with a method and a subclass that overrides the method.\n",
    "class Car:\n",
    "    def accelerate(self):\n",
    "        print(\"The car is accerating\")\n",
    "        \n",
    "class Sedan(Car):\n",
    "    def accelerate(self):\n",
    "        print(\"The sedan car is accelerating\")\n",
    "        \n",
    "obj = Car()\n",
    "obj.accelerate()\n",
    "obj1 = Sedan()\n",
    "obj1.accelerate()"
   ]
  },
  {
   "cell_type": "code",
   "execution_count": 17,
   "id": "b45f5784-17eb-443e-b67f-0d58e89ab0cc",
   "metadata": {},
   "outputs": [],
   "source": [
    "# How would polymorphism improves code reuseability and readability:\n",
    "# Polymorphism enhances code reusability by enabling the use of common interfaces, \n",
    "# inheritance, and composition. By programming to interfaces, developers can create reusable components\n",
    "# that can be easily integrated into different parts of the system. Additionally, polymorphism promotes code readability by abstracting complexity, supporting dynamic dispatch, and encapsulating \n",
    "# behavior within well-defined interfaces and classes. This leads to cleaner, more modular, and easier-to-understand codebases, \n",
    "# ultimately improving the overall quality and maintainability of software systems."
   ]
  },
  {
   "cell_type": "code",
   "execution_count": 6,
   "id": "b67740e1-eba1-4310-a34d-d9c049e8b2ea",
   "metadata": {},
   "outputs": [
    {
     "name": "stdout",
     "output_type": "stream",
     "text": [
      "Private Attribute: I am private attribute\n",
      "Protected Attribute: I am protected attribute\n"
     ]
    }
   ],
   "source": [
    "# How can you achieve encapsulation in python?\n",
    "# Encapsulation can be achieved by \"_\" and \"__\" for the private and protected access modifier as python does not have as like other languages like java \n",
    "# and python. Java have private and protected access modiffier \n",
    "class MyClass:\n",
    "    def __init__(self):\n",
    "        self.__private_atr = \"I am private attribute\"\n",
    "        self._protected_atr = \"I am protected attribute\"\n",
    "        \n",
    "    def get_private(self):\n",
    "        return self.__private_atr\n",
    "    \n",
    "    def get_protected(self):\n",
    "        return self._protected_atr\n",
    "    \n",
    "# Creating an object of MyClass\n",
    "obj = MyClass()\n",
    "\n",
    "# Accessing private and protected attributes using getter methods\n",
    "print(\"Private Attribute:\", obj.get_private())    # Output: I am private attribute\n",
    "print(\"Protected Attribute:\", obj.get_protected()) # Output: I am protected attribute\n"
   ]
  },
  {
   "cell_type": "code",
   "execution_count": 23,
   "id": "1a273ab3-00b0-436b-80f9-d83da44b1631",
   "metadata": {},
   "outputs": [
    {
     "name": "stdout",
     "output_type": "stream",
     "text": [
      "The withdrew amount is 500 and the remaining balance is 700\n"
     ]
    }
   ],
   "source": [
    "# Create a class with BankAccount with the private balance attribute , include method to withdraw ,deposit and check balance\n",
    "\n",
    "class BankAccount:\n",
    "    def __init__(self, balance):\n",
    "        self.__balance = balance\n",
    "        \n",
    "    def withdraw(self, amount):\n",
    "        if amount <= self.__balance:\n",
    "            self.__balance -= amount\n",
    "            print(f\"The withdrew amount is {amount} and the remaining balance is {self.__balance}\")\n",
    "        else:\n",
    "            print(\"Insufficient balance\")\n",
    "        \n",
    "    def deposit(self, amount):\n",
    "        if amount > 0:\n",
    "            self.__balance += amount\n",
    "\n",
    "# Creating an object of BankAccount\n",
    "bank = BankAccount(1000)\n",
    "\n",
    "# Testing deposit method\n",
    "bank.deposit(200)\n",
    "\n",
    "# Testing withdraw method\n",
    "bank.withdraw(500)  # Output: The withdrew amount is 500 and the remaining balance is 700\n"
   ]
  },
  {
   "cell_type": "code",
   "execution_count": 27,
   "id": "aeee2730-fc16-4494-8d17-ac8f130c59e0",
   "metadata": {},
   "outputs": [
    {
     "data": {
      "text/plain": [
       "'vinay@gmail.com'"
      ]
     },
     "execution_count": 27,
     "metadata": {},
     "output_type": "execute_result"
    }
   ],
   "source": [
    "# Write a class Person with private name and email, method to get and set email of the person.\n",
    "class Person:\n",
    "    def __init__(self, name , email):\n",
    "        self.__name = name\n",
    "        self.__email = email\n",
    "        \n",
    "    def get_email(self):\n",
    "        return self.__email\n",
    "    def set_email(self,email):\n",
    "        self.__email = email\n",
    "        return self.__email\n",
    "    \n",
    "person = Person(\"vinay\", \"vinayiet435@gmail.com\")\n",
    "\n",
    "person.get_email()\n",
    "person.set_email('vinay@gmail.com')\n",
    "person.get_email()"
   ]
  },
  {
   "cell_type": "code",
   "execution_count": 28,
   "id": "183d9683-d002-454d-9e3b-9fd87c58057b",
   "metadata": {},
   "outputs": [],
   "source": [
    "# Why encapsulation is considered as the pillar of the oops ?\n",
    "# Encapsulation is hailed as a fundamental pillar of Object-Oriented Programming (OOP) due to its pivotal role in achieving core OOP principles and objectives. By encapsulating data (attributes) and behavior (methods) within a single unit (class), encapsulation fosters crucial aspects of OOP, including data hiding, abstraction, modularity, information hiding, and security.\n",
    "\n",
    "# Firstly, encapsulation facilitates data hiding by concealing the internal implementation details of a class, shielding its attributes from direct external access. This ensures that the integrity and consistency of an object's state are maintained, as access to its data is restricted to controlled interfaces (methods), preventing unauthorized modifications.\n",
    "\n",
    "# Secondly, encapsulation enables abstraction by delineating a clear separation between the interface (public methods) and implementation (private or protected attributes and methods) of a class. This abstraction empowers developers to interact with objects based on what they can do (interface) rather than how they are implemented (internal details), promoting code reusability and maintainability."
   ]
  },
  {
   "cell_type": "code",
   "execution_count": 9,
   "id": "7b38f3ec-b040-494c-bf18-00ddd04d6d4f",
   "metadata": {},
   "outputs": [
    {
     "name": "stdout",
     "output_type": "stream",
     "text": [
      "printing before the function\n",
      "hello\n",
      "printing after the function\n"
     ]
    }
   ],
   "source": [
    "# Create a decorator method that adds the functionality to the a simple function by printing before function and after function.\n",
    "def MyDecorator(func):\n",
    "    def wrapper():\n",
    "        print(\"printing before the function\" )\n",
    "        func()\n",
    "        print(\"printing after the function\")\n",
    "    return wrapper\n",
    "\n",
    "@MyDecorator\n",
    "def my_func():\n",
    "    print(\"hello\")\n",
    "    \n",
    "my_func()\n"
   ]
  },
  {
   "cell_type": "code",
   "execution_count": 10,
   "id": "9e8dfb94-6879-4745-8b30-eb529d539687",
   "metadata": {},
   "outputs": [
    {
     "name": "stdout",
     "output_type": "stream",
     "text": [
      "Printing before calling my_func: decorated\n",
      "hello\n",
      "Printing after calling my_func: decorated\n"
     ]
    }
   ],
   "source": [
    "# Modify decorator to accept arguments and print function name along with the message.\n",
    "def MyDecorator(message):\n",
    "    def decorator(func):\n",
    "        def wrapper(*args, **kwargs):\n",
    "            print(f\"Printing before calling {func.__name__}: {message}\")\n",
    "            result = func(*args, **kwargs)\n",
    "            print(f\"Printing after calling {func.__name__}: {message}\")\n",
    "            return result\n",
    "        return wrapper\n",
    "    return decorator\n",
    "\n",
    "@MyDecorator(\"decorated\")\n",
    "def my_func():\n",
    "    print(\"hello\")\n",
    "\n",
    "my_func()\n",
    "\n",
    "    "
   ]
  },
  {
   "cell_type": "code",
   "execution_count": 13,
   "id": "12979b25-238f-4d9c-8002-74de5171d6f0",
   "metadata": {},
   "outputs": [
    {
     "name": "stdout",
     "output_type": "stream",
     "text": [
      "Second decorator is executed before!\n",
      "First decorator is executed before!\n",
      "hello!\n",
      "First decorator is executed after\n",
      "Second decorator is executed after\n"
     ]
    }
   ],
   "source": [
    "# Create two decorators and apply into a single function. Ensure that they execute in the order they applied.\n",
    "def first_decorator(func):\n",
    "    def wrapper():\n",
    "        print(\"First decorator is executed before!\")\n",
    "        func()\n",
    "        print(\"First decorator is executed after\")\n",
    "    return wrapper\n",
    "\n",
    "def second_decorator(func):\n",
    "    def wrapper():\n",
    "        print(\"Second decorator is executed before!\")\n",
    "        func()\n",
    "        print(\"Second decorator is executed after\")\n",
    "    return wrapper\n",
    "\n",
    "@second_decorator\n",
    "@first_decorator\n",
    "def my_func():\n",
    "    print(\"hello!\")\n",
    "\n",
    "my_func()\n"
   ]
  },
  {
   "cell_type": "code",
   "execution_count": 17,
   "id": "6a7dc74a-7a46-4b16-991c-fb257db4bf8d",
   "metadata": {},
   "outputs": [
    {
     "name": "stdout",
     "output_type": "stream",
     "text": [
      "Executed before the function is called: Decorated\n",
      "hello\n",
      "Executed after the function is called: Decorated\n"
     ]
    }
   ],
   "source": [
    "# Modify the decorator to accept and pass function arguments to the wrapped function.\n",
    "def MyDecorator(message):\n",
    "    def decorator(func):\n",
    "        def wrapper(*args, **kwargs):\n",
    "            print(f\"Executed before the function is called: {message}\")\n",
    "            result = func(*args, **kwargs)  # Pass arguments to the wrapped function\n",
    "            print(f\"Executed after the function is called: {message}\")\n",
    "            return result\n",
    "        return wrapper\n",
    "    return decorator\n",
    "\n",
    "@MyDecorator(\"Decorated\")\n",
    "def my_func():\n",
    "    print(\"hello\")\n",
    "\n",
    "my_func()\n"
   ]
  },
  {
   "cell_type": "code",
   "execution_count": 18,
   "id": "33ca2b9f-c2ce-4f52-b336-133209f13e61",
   "metadata": {},
   "outputs": [
    {
     "name": "stdout",
     "output_type": "stream",
     "text": [
      "Function name: my_func\n",
      "Docstring: This is the docstring of my_func.\n",
      "Executing before the function is called\n",
      "hello\n",
      "Executing after the function is called\n"
     ]
    }
   ],
   "source": [
    "# Create a decorator that preserves the metadata of the function \n",
    "from functools import wraps\n",
    "\n",
    "def MyDecorator(func):\n",
    "    @wraps(func)  # Preserve metadata of the original function\n",
    "    def wrapper(*args, **kwargs):\n",
    "        print(\"Executing before the function is called\")\n",
    "        result = func(*args, **kwargs)\n",
    "        print(\"Executing after the function is called\")\n",
    "        return result\n",
    "    return wrapper\n",
    "\n",
    "@MyDecorator\n",
    "def my_func():\n",
    "    \"\"\"This is the docstring of my_func.\"\"\"\n",
    "    print(\"hello\")\n",
    "\n",
    "# Accessing metadata of the decorated function\n",
    "print(\"Function name:\", my_func.__name__)\n",
    "print(\"Docstring:\", my_func.__doc__)\n",
    "\n",
    "my_func()\n"
   ]
  },
  {
   "cell_type": "code",
   "execution_count": 24,
   "id": "b255f056-132e-4870-975b-eb14fe2dcd97",
   "metadata": {},
   "outputs": [
    {
     "data": {
      "text/plain": [
       "9"
      ]
     },
     "execution_count": 24,
     "metadata": {},
     "output_type": "execute_result"
    }
   ],
   "source": [
    "# Create a python class Calculator with a static method add that takes in two numbers and return their sum\n",
    "class Calculator:\n",
    "    \n",
    "    def __init__(self, x, y):\n",
    "        x.self = x\n",
    "        y.self = y\n",
    "    \n",
    "    @staticmethod\n",
    "    def add(x, y):\n",
    "        return x + y\n",
    "\n",
    "Calculator.add(4,5)\n"
   ]
  },
  {
   "cell_type": "code",
   "execution_count": 31,
   "id": "ceb9a701-60fb-48f4-b130-2e0761b47dbc",
   "metadata": {},
   "outputs": [
    {
     "name": "stdout",
     "output_type": "stream",
     "text": [
      "2\n"
     ]
    }
   ],
   "source": [
    "# Create a python class Employee wit a class method get_employee_count that returns total numbers of the employees created\n",
    "class Employee:\n",
    "    employee_count = 0\n",
    "    \n",
    "    def __init__(self, employee):\n",
    "        self.employee = employee\n",
    "        \n",
    "        Employee.employee_count += 1\n",
    "        \n",
    "    @classmethod\n",
    "    def get_employee_count(cls):\n",
    "        return cls.employee_count\n",
    "    \n",
    "    \n",
    "    \n",
    "emp1 = Employee(\"Sagar\")\n",
    "emp2 = Employee(\"Swayam\")\n",
    "\n",
    "print(Employee.get_employee_count())\n"
   ]
  },
  {
   "cell_type": "code",
   "execution_count": 3,
   "id": "ba119ec5-3492-498b-a58f-b576a335f211",
   "metadata": {},
   "outputs": [
    {
     "name": "stdout",
     "output_type": "stream",
     "text": [
      "olleh\n"
     ]
    }
   ],
   "source": [
    "# Create a python class `StringFormattor` with a static method `reverse_string` that takes a string as input and return its reverse\n",
    "class StringFormattor:\n",
    "    @staticmethod\n",
    "    def reverse_string(input_string):\n",
    "        return input_string[::-1]\n",
    "    \n",
    "reversed_string = StringFormattor.reverse_string(\"hello\")\n",
    "    \n",
    "print(reversed_string)    "
   ]
  },
  {
   "cell_type": "code",
   "execution_count": 7,
   "id": "bd3ac5de-db53-458c-b2b0-90a251a2d591",
   "metadata": {},
   "outputs": [
    {
     "data": {
      "text/plain": [
       "12.56"
      ]
     },
     "execution_count": 7,
     "metadata": {},
     "output_type": "execute_result"
    }
   ],
   "source": [
    "# Create a python class Circle with a class method calculate_area that calculate the area of cirlce given by it's radius\n",
    "class Circle:\n",
    "    def __init__(self, radius):\n",
    "        self.radius = radius \n",
    "        \n",
    "        \n",
    "    def area(self):\n",
    "        return 3.14 * self.radius**2\n",
    "    \n",
    "circle = Circle(2)\n",
    "circle.area()\n",
    "\n"
   ]
  },
  {
   "cell_type": "code",
   "execution_count": 1,
   "id": "cc150a70-1df7-43af-a902-6d6e10dac0b8",
   "metadata": {},
   "outputs": [
    {
     "name": "stdout",
     "output_type": "stream",
     "text": [
      "Person(name=Alice, age=30)\n"
     ]
    }
   ],
   "source": [
    "# What is the __str__() method of python classes? Provide an example.\n",
    "# The __str__() method in Python is used to define a human-readable string representation of an object. It is called by the str() function and the print() function.\n",
    "class Person:\n",
    "    def __init__(self, name, age):\n",
    "        self.name = name\n",
    "        self.age = age\n",
    "    \n",
    "    def __str__(self):\n",
    "        return f'Person(name={self.name}, age={self.age})'\n",
    "\n",
    "p = Person('Alice', 30)\n",
    "print(p)  # Output: Person(name=Alice, age=30)\n"
   ]
  },
  {
   "cell_type": "code",
   "execution_count": null,
   "id": "81b9a281-dac4-4a15-9bd6-c5dce7bde86c",
   "metadata": {},
   "outputs": [],
   "source": [
    "#  How does the __len__() method work in Python? Provide an example.\n",
    "# The __len__() method is used to define the behavior of the len() function for an object. It returns the length of the object."
   ]
  }
 ],
 "metadata": {
  "kernelspec": {
   "display_name": "Python 3 (ipykernel)",
   "language": "python",
   "name": "python3"
  },
  "language_info": {
   "codemirror_mode": {
    "name": "ipython",
    "version": 3
   },
   "file_extension": ".py",
   "mimetype": "text/x-python",
   "name": "python",
   "nbconvert_exporter": "python",
   "pygments_lexer": "ipython3",
   "version": "3.10.8"
  }
 },
 "nbformat": 4,
 "nbformat_minor": 5
}
